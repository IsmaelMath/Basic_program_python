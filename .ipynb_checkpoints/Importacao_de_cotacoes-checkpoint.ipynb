{
 "cells": [
  {
   "cell_type": "markdown",
   "id": "cca98c1f",
   "metadata": {},
   "source": [
    "# Olá pessoa, tudo bem?\n",
    "\n",
    "Hoje vou importar uma ação qualquer, salvar o arquivo como csv e logo<br>\n",
    "em seguida fazer plot do gráfico de candlestick que é o gráfico mais<br>\n",
    "usado para fazer leitura pelos analistas técnicos.\n",
    "\n",
    "- Vamos fazer o importação das bibliotecas"
   ]
  },
  {
   "cell_type": "code",
   "execution_count": 2,
   "id": "418ac8ea",
   "metadata": {},
   "outputs": [],
   "source": [
    "import pandas as pd\n",
    "import datetime as dt\n",
    "import matplotlib as olt\n",
    "import pandas_datareader.data as web\n",
    "from matplotlib import style\n",
    "import mplfinance as mpf\n"
   ]
  },
  {
   "cell_type": "markdown",
   "id": "2b043adc",
   "metadata": {},
   "source": [
    "## Agora vamos escolher as data do inicio e do fim."
   ]
  },
  {
   "cell_type": "code",
   "execution_count": 3,
   "id": "84ddb940",
   "metadata": {},
   "outputs": [],
   "source": [
    "inicio = dt.datetime(2022, 1, 1)\n",
    "fim = dt.datetime(2022, 7, 8)"
   ]
  },
  {
   "cell_type": "markdown",
   "id": "946fc08f",
   "metadata": {},
   "source": [
    "### Importando as cotações do yahoo finance"
   ]
  },
  {
   "cell_type": "code",
   "execution_count": 4,
   "id": "25f17e3e",
   "metadata": {},
   "outputs": [],
   "source": [
    "df = web.DataReader(\"PETR4.SA\", \"yahoo\", inicio, fim)"
   ]
  },
  {
   "cell_type": "markdown",
   "id": "2f0ca037",
   "metadata": {},
   "source": [
    "### Salvando as cotações da PETR4 em um arquivo csv"
   ]
  },
  {
   "cell_type": "code",
   "execution_count": 5,
   "id": "bcc2aea2",
   "metadata": {},
   "outputs": [],
   "source": [
    "df.to_csv(\"Petr4_2022.csv\")"
   ]
  },
  {
   "cell_type": "markdown",
   "id": "ceefc0d7",
   "metadata": {},
   "source": [
    "### Lendo as primeiras 20 cotações do arquivo csv"
   ]
  },
  {
   "cell_type": "code",
   "execution_count": 6,
   "id": "dcf6566c",
   "metadata": {},
   "outputs": [
    {
     "data": {
      "text/html": [
       "<div>\n",
       "<style scoped>\n",
       "    .dataframe tbody tr th:only-of-type {\n",
       "        vertical-align: middle;\n",
       "    }\n",
       "\n",
       "    .dataframe tbody tr th {\n",
       "        vertical-align: top;\n",
       "    }\n",
       "\n",
       "    .dataframe thead th {\n",
       "        text-align: right;\n",
       "    }\n",
       "</style>\n",
       "<table border=\"1\" class=\"dataframe\">\n",
       "  <thead>\n",
       "    <tr style=\"text-align: right;\">\n",
       "      <th></th>\n",
       "      <th>High</th>\n",
       "      <th>Low</th>\n",
       "      <th>Open</th>\n",
       "      <th>Close</th>\n",
       "      <th>Volume</th>\n",
       "      <th>Adj Close</th>\n",
       "    </tr>\n",
       "    <tr>\n",
       "      <th>Date</th>\n",
       "      <th></th>\n",
       "      <th></th>\n",
       "      <th></th>\n",
       "      <th></th>\n",
       "      <th></th>\n",
       "      <th></th>\n",
       "    </tr>\n",
       "  </thead>\n",
       "  <tbody>\n",
       "    <tr>\n",
       "      <th>2022-01-03</th>\n",
       "      <td>29.219999</td>\n",
       "      <td>28.530001</td>\n",
       "      <td>28.540001</td>\n",
       "      <td>29.090000</td>\n",
       "      <td>52704700.0</td>\n",
       "      <td>19.430082</td>\n",
       "    </tr>\n",
       "    <tr>\n",
       "      <th>2022-01-04</th>\n",
       "      <td>29.400000</td>\n",
       "      <td>28.910000</td>\n",
       "      <td>29.160000</td>\n",
       "      <td>29.200001</td>\n",
       "      <td>51739200.0</td>\n",
       "      <td>19.503555</td>\n",
       "    </tr>\n",
       "    <tr>\n",
       "      <th>2022-01-05</th>\n",
       "      <td>29.270000</td>\n",
       "      <td>27.940001</td>\n",
       "      <td>29.190001</td>\n",
       "      <td>28.070000</td>\n",
       "      <td>78459800.0</td>\n",
       "      <td>18.748793</td>\n",
       "    </tr>\n",
       "    <tr>\n",
       "      <th>2022-01-06</th>\n",
       "      <td>28.650000</td>\n",
       "      <td>27.840000</td>\n",
       "      <td>28.290001</td>\n",
       "      <td>28.049999</td>\n",
       "      <td>61163100.0</td>\n",
       "      <td>18.735434</td>\n",
       "    </tr>\n",
       "    <tr>\n",
       "      <th>2022-01-07</th>\n",
       "      <td>28.290001</td>\n",
       "      <td>27.820000</td>\n",
       "      <td>28.110001</td>\n",
       "      <td>28.180000</td>\n",
       "      <td>47507600.0</td>\n",
       "      <td>18.822266</td>\n",
       "    </tr>\n",
       "    <tr>\n",
       "      <th>2022-01-10</th>\n",
       "      <td>28.240000</td>\n",
       "      <td>27.719999</td>\n",
       "      <td>27.990000</td>\n",
       "      <td>28.010000</td>\n",
       "      <td>37455200.0</td>\n",
       "      <td>18.708715</td>\n",
       "    </tr>\n",
       "    <tr>\n",
       "      <th>2022-01-11</th>\n",
       "      <td>29.070000</td>\n",
       "      <td>27.850000</td>\n",
       "      <td>28.100000</td>\n",
       "      <td>28.840000</td>\n",
       "      <td>73623800.0</td>\n",
       "      <td>19.263100</td>\n",
       "    </tr>\n",
       "    <tr>\n",
       "      <th>2022-01-12</th>\n",
       "      <td>29.910000</td>\n",
       "      <td>28.950001</td>\n",
       "      <td>28.950001</td>\n",
       "      <td>29.719999</td>\n",
       "      <td>81378200.0</td>\n",
       "      <td>19.850878</td>\n",
       "    </tr>\n",
       "    <tr>\n",
       "      <th>2022-01-13</th>\n",
       "      <td>30.629999</td>\n",
       "      <td>29.500000</td>\n",
       "      <td>29.530001</td>\n",
       "      <td>30.320000</td>\n",
       "      <td>76717500.0</td>\n",
       "      <td>20.251635</td>\n",
       "    </tr>\n",
       "    <tr>\n",
       "      <th>2022-01-14</th>\n",
       "      <td>31.600000</td>\n",
       "      <td>30.240000</td>\n",
       "      <td>30.280001</td>\n",
       "      <td>31.450001</td>\n",
       "      <td>96458800.0</td>\n",
       "      <td>21.006395</td>\n",
       "    </tr>\n",
       "    <tr>\n",
       "      <th>2022-01-17</th>\n",
       "      <td>31.809999</td>\n",
       "      <td>31.250000</td>\n",
       "      <td>31.400000</td>\n",
       "      <td>31.500000</td>\n",
       "      <td>35675900.0</td>\n",
       "      <td>21.039793</td>\n",
       "    </tr>\n",
       "    <tr>\n",
       "      <th>2022-01-18</th>\n",
       "      <td>31.980000</td>\n",
       "      <td>30.969999</td>\n",
       "      <td>31.559999</td>\n",
       "      <td>31.639999</td>\n",
       "      <td>78198800.0</td>\n",
       "      <td>21.133303</td>\n",
       "    </tr>\n",
       "    <tr>\n",
       "      <th>2022-01-19</th>\n",
       "      <td>32.209999</td>\n",
       "      <td>31.440001</td>\n",
       "      <td>31.900000</td>\n",
       "      <td>31.490000</td>\n",
       "      <td>77480200.0</td>\n",
       "      <td>21.033113</td>\n",
       "    </tr>\n",
       "    <tr>\n",
       "      <th>2022-01-20</th>\n",
       "      <td>32.000000</td>\n",
       "      <td>31.110001</td>\n",
       "      <td>31.500000</td>\n",
       "      <td>31.719999</td>\n",
       "      <td>85353100.0</td>\n",
       "      <td>21.186737</td>\n",
       "    </tr>\n",
       "    <tr>\n",
       "      <th>2022-01-21</th>\n",
       "      <td>31.879999</td>\n",
       "      <td>31.530001</td>\n",
       "      <td>31.570000</td>\n",
       "      <td>31.770000</td>\n",
       "      <td>61345400.0</td>\n",
       "      <td>21.220133</td>\n",
       "    </tr>\n",
       "    <tr>\n",
       "      <th>2022-01-24</th>\n",
       "      <td>32.250000</td>\n",
       "      <td>31.040001</td>\n",
       "      <td>31.690001</td>\n",
       "      <td>31.950001</td>\n",
       "      <td>79117100.0</td>\n",
       "      <td>21.340363</td>\n",
       "    </tr>\n",
       "    <tr>\n",
       "      <th>2022-01-25</th>\n",
       "      <td>33.230000</td>\n",
       "      <td>31.580000</td>\n",
       "      <td>31.700001</td>\n",
       "      <td>32.990002</td>\n",
       "      <td>98358500.0</td>\n",
       "      <td>22.035009</td>\n",
       "    </tr>\n",
       "    <tr>\n",
       "      <th>2022-01-26</th>\n",
       "      <td>34.270000</td>\n",
       "      <td>33.299999</td>\n",
       "      <td>33.299999</td>\n",
       "      <td>33.869999</td>\n",
       "      <td>98679900.0</td>\n",
       "      <td>22.622786</td>\n",
       "    </tr>\n",
       "    <tr>\n",
       "      <th>2022-01-27</th>\n",
       "      <td>34.639999</td>\n",
       "      <td>33.169998</td>\n",
       "      <td>34.250000</td>\n",
       "      <td>33.880001</td>\n",
       "      <td>90631000.0</td>\n",
       "      <td>22.629465</td>\n",
       "    </tr>\n",
       "    <tr>\n",
       "      <th>2022-01-28</th>\n",
       "      <td>34.349998</td>\n",
       "      <td>32.220001</td>\n",
       "      <td>33.799999</td>\n",
       "      <td>32.540001</td>\n",
       "      <td>117400500.0</td>\n",
       "      <td>21.734440</td>\n",
       "    </tr>\n",
       "  </tbody>\n",
       "</table>\n",
       "</div>"
      ],
      "text/plain": [
       "                 High        Low       Open      Close       Volume  Adj Close\n",
       "Date                                                                          \n",
       "2022-01-03  29.219999  28.530001  28.540001  29.090000   52704700.0  19.430082\n",
       "2022-01-04  29.400000  28.910000  29.160000  29.200001   51739200.0  19.503555\n",
       "2022-01-05  29.270000  27.940001  29.190001  28.070000   78459800.0  18.748793\n",
       "2022-01-06  28.650000  27.840000  28.290001  28.049999   61163100.0  18.735434\n",
       "2022-01-07  28.290001  27.820000  28.110001  28.180000   47507600.0  18.822266\n",
       "2022-01-10  28.240000  27.719999  27.990000  28.010000   37455200.0  18.708715\n",
       "2022-01-11  29.070000  27.850000  28.100000  28.840000   73623800.0  19.263100\n",
       "2022-01-12  29.910000  28.950001  28.950001  29.719999   81378200.0  19.850878\n",
       "2022-01-13  30.629999  29.500000  29.530001  30.320000   76717500.0  20.251635\n",
       "2022-01-14  31.600000  30.240000  30.280001  31.450001   96458800.0  21.006395\n",
       "2022-01-17  31.809999  31.250000  31.400000  31.500000   35675900.0  21.039793\n",
       "2022-01-18  31.980000  30.969999  31.559999  31.639999   78198800.0  21.133303\n",
       "2022-01-19  32.209999  31.440001  31.900000  31.490000   77480200.0  21.033113\n",
       "2022-01-20  32.000000  31.110001  31.500000  31.719999   85353100.0  21.186737\n",
       "2022-01-21  31.879999  31.530001  31.570000  31.770000   61345400.0  21.220133\n",
       "2022-01-24  32.250000  31.040001  31.690001  31.950001   79117100.0  21.340363\n",
       "2022-01-25  33.230000  31.580000  31.700001  32.990002   98358500.0  22.035009\n",
       "2022-01-26  34.270000  33.299999  33.299999  33.869999   98679900.0  22.622786\n",
       "2022-01-27  34.639999  33.169998  34.250000  33.880001   90631000.0  22.629465\n",
       "2022-01-28  34.349998  32.220001  33.799999  32.540001  117400500.0  21.734440"
      ]
     },
     "execution_count": 6,
     "metadata": {},
     "output_type": "execute_result"
    }
   ],
   "source": [
    "df.head(20)"
   ]
  },
  {
   "cell_type": "markdown",
   "id": "48d115f9",
   "metadata": {},
   "source": [
    "### Agora vamos fazer o esboço do gráfico"
   ]
  },
  {
   "cell_type": "code",
   "execution_count": 7,
   "id": "6aecab1e",
   "metadata": {},
   "outputs": [
    {
     "data": {
      "image/png": "[encoded data removed]",
      "text/plain": [
       "<Figure size 1440x432 with 2 Axes>"
      ]
     },
     "metadata": {
      "needs_background": "light"
     },
     "output_type": "display_data"
    },
    {
     "ename": "TypeError",
     "evalue": "'module' object is not subscriptable",
     "output_type": "error",
     "traceback": [
      "\u001b[0;31m---------------------------------------------------------------------------\u001b[0m",
      "\u001b[0;31mTypeError\u001b[0m                                 Traceback (most recent call last)",
      "\u001b[0;32m/tmp/ipykernel_47617/3916035054.py\u001b[0m in \u001b[0;36m<cell line: 3>\u001b[0;34m()\u001b[0m\n\u001b[1;32m      1\u001b[0m \u001b[0mdf\u001b[0m \u001b[0;34m=\u001b[0m \u001b[0mpd\u001b[0m\u001b[0;34m.\u001b[0m\u001b[0mread_csv\u001b[0m\u001b[0;34m(\u001b[0m\u001b[0;34m\"Petr4_2022.csv\"\u001b[0m\u001b[0;34m,\u001b[0m \u001b[0mparse_dates\u001b[0m\u001b[0;34m=\u001b[0m\u001b[0;32mTrue\u001b[0m\u001b[0;34m,\u001b[0m \u001b[0mindex_col\u001b[0m \u001b[0;34m=\u001b[0m \u001b[0;36m0\u001b[0m\u001b[0;34m)\u001b[0m\u001b[0;34m\u001b[0m\u001b[0;34m\u001b[0m\u001b[0m\n\u001b[1;32m      2\u001b[0m \u001b[0mmpf\u001b[0m\u001b[0;34m.\u001b[0m\u001b[0mplot\u001b[0m\u001b[0;34m(\u001b[0m\u001b[0mdf\u001b[0m\u001b[0;34m,\u001b[0m \u001b[0mtype\u001b[0m\u001b[0;34m=\u001b[0m\u001b[0;34m\"candle\"\u001b[0m\u001b[0;34m,\u001b[0m\u001b[0mtitle\u001b[0m\u001b[0;34m=\u001b[0m\u001b[0;34m\"Cotações da Petrobras - PETR4\"\u001b[0m\u001b[0;34m,\u001b[0m \u001b[0mfigsize\u001b[0m\u001b[0;34m=\u001b[0m\u001b[0;34m(\u001b[0m\u001b[0;36m20\u001b[0m\u001b[0;34m,\u001b[0m \u001b[0;36m6\u001b[0m\u001b[0;34m)\u001b[0m\u001b[0;34m)\u001b[0m\u001b[0;34m\u001b[0m\u001b[0;34m\u001b[0m\u001b[0m\n\u001b[0;32m----> 3\u001b[0;31m \u001b[0mmedia\u001b[0m \u001b[0;34m=\u001b[0m \u001b[0mpd\u001b[0m\u001b[0;34m[\u001b[0m\u001b[0;34m\"Adj close\"\u001b[0m\u001b[0;34m]\u001b[0m\u001b[0;34m.\u001b[0m\u001b[0mrolling\u001b[0m\u001b[0;34m(\u001b[0m\u001b[0;36m20\u001b[0m\u001b[0;34m)\u001b[0m\u001b[0;34m.\u001b[0m\u001b[0mmean\u001b[0m\u001b[0;34m(\u001b[0m\u001b[0;34m)\u001b[0m\u001b[0;34m\u001b[0m\u001b[0;34m\u001b[0m\u001b[0m\n\u001b[0m",
      "\u001b[0;31mTypeError\u001b[0m: 'module' object is not subscriptable"
     ]
    }
   ],
   "source": [
    "df = pd.read_csv(\"Petr4_2022.csv\", parse_dates=True, index_col = 0)\n",
    "mpf.plot(df, type=\"candle\",title=\"Cotações da Petrobras - PETR4\", figsize=(20, 6))\n",
    "media = pd[\"Adj close\"].rolling(20).mean()"
   ]
  },
  {
   "cell_type": "code",
   "execution_count": null,
   "id": "015144e9",
   "metadata": {},
   "outputs": [],
   "source": []
  },
  {
   "cell_type": "code",
   "execution_count": null,
   "id": "64c935b2",
   "metadata": {},
   "outputs": [],
   "source": []
  },
  {
   "cell_type": "code",
   "execution_count": null,
   "id": "61007f94",
   "metadata": {},
   "outputs": [],
   "source": []
  },
  {
   "cell_type": "code",
   "execution_count": null,
   "id": "2bdaf1b1",
   "metadata": {},
   "outputs": [],
   "source": []
  }
 ],
 "metadata": {
  "kernelspec": {
   "display_name": "Python 3 (ipykernel)",
   "language": "python",
   "name": "python3"
  },
  "language_info": {
   "codemirror_mode": {
    "name": "ipython",
    "version": 3
   },
   "file_extension": ".py",
   "mimetype": "text/x-python",
   "name": "python",
   "nbconvert_exporter": "python",
   "pygments_lexer": "ipython3",
   "version": "3.10.4"
  },
  "toc": {
   "base_numbering": 1,
   "nav_menu": {},
   "number_sections": true,
   "sideBar": true,
   "skip_h1_title": false,
   "title_cell": "Table of Contents",
   "title_sidebar": "Contents",
   "toc_cell": false,
   "toc_position": {},
   "toc_section_display": true,
   "toc_window_display": false
  }
 },
 "nbformat": 4,
 "nbformat_minor": 5
}
